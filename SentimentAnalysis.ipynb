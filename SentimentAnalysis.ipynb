{
 "cells": [
  {
   "cell_type": "markdown",
   "metadata": {},
   "source": [
    "# Analysis Outline:\n",
    "\n",
    "In this project Corpus text file is analyzed. Preprocessing of text data involves transforming raw data into an understandable format for NLP models. \n",
    "1. Data cleaning and changing all the text content to lower case.\n",
    "2. Tokenization to  break a stream of text into words, phrases, symbols, or other meaningful elements called tokens. The list of tokens becomes input for further processing.\n",
    "3. Word Lemmatization to reduce the inflectional forms of each word into a common base or root, as well as to remove Stop words.\n",
    "4. Splitting data into Train and Test datasets\n",
    "5. Encoding labels to transform Categorical data of string type in the data set into numerical values which the model can understand.\n",
    "6. Word Vectorization to turn a collection of text documents into numerical feature vectors\n",
    "7. Fitting SVM algorithm and optimizing the hyper parameters\n",
    "8. Fitting ANN algorithm and model optimization\n"
   ]
  },
  {
   "cell_type": "code",
   "execution_count": 117,
   "metadata": {
    "scrolled": true
   },
   "outputs": [
    {
     "name": "stderr",
     "output_type": "stream",
     "text": [
      "[nltk_data] Downloading package punkt to\n",
      "[nltk_data]     C:\\Users\\Taraneh\\AppData\\Roaming\\nltk_data...\n",
      "[nltk_data]   Package punkt is already up-to-date!\n",
      "[nltk_data] Downloading package wordnet to\n",
      "[nltk_data]     C:\\Users\\Taraneh\\AppData\\Roaming\\nltk_data...\n",
      "[nltk_data]   Package wordnet is already up-to-date!\n",
      "[nltk_data] Downloading package averaged_perceptron_tagger to\n",
      "[nltk_data]     C:\\Users\\Taraneh\\AppData\\Roaming\\nltk_data...\n",
      "[nltk_data]   Package averaged_perceptron_tagger is already up-to-\n",
      "[nltk_data]       date!\n",
      "[nltk_data] Downloading package stopwords to\n",
      "[nltk_data]     C:\\Users\\Taraneh\\AppData\\Roaming\\nltk_data...\n",
      "[nltk_data]   Package stopwords is already up-to-date!\n"
     ]
    }
   ],
   "source": [
    "import pandas as pd\n",
    "import numpy as np\n",
    "\n",
    "import nltk\n",
    "from nltk.tokenize import word_tokenize\n",
    "from nltk import pos_tag\n",
    "from nltk.corpus import stopwords\n",
    "from nltk.stem import WordNetLemmatizer\n",
    "from nltk.corpus import wordnet as wn\n",
    "\n",
    "from sklearn.preprocessing import LabelEncoder\n",
    "from sklearn.preprocessing import StandardScaler\n",
    "from sklearn.feature_extraction.text import TfidfVectorizer\n",
    "from sklearn.feature_extraction.text import TfidfTransformer\n",
    "from sklearn import model_selection, naive_bayes, svm\n",
    "from sklearn.svm import SVC\n",
    "from sklearn.metrics import accuracy_score\n",
    "from sklearn.pipeline import Pipeline\n",
    "from sklearn.model_selection import GridSearchCV\n",
    "from sklearn.model_selection import learning_curve\n",
    "\n",
    "import tensorflow as tf\n",
    "from tensorflow import keras\n",
    "from tensorflow.keras.preprocessing.text import Tokenizer\n",
    "from tensorflow.keras.preprocessing.sequence import pad_sequences\n",
    "\n",
    "from keras import regularizers\n",
    "from keras.layers import Dense, Dropout\n",
    "from keras.wrappers.scikit_learn import KerasClassifier\n",
    "\n",
    "import matplotlib.pyplot as plt\n",
    "\n",
    "from collections import defaultdict\n",
    "\n",
    "nltk.download('punkt')\n",
    "nltk.download('wordnet')\n",
    "nltk.download('averaged_perceptron_tagger')\n",
    "nltk.download('stopwords')"
   ]
  },
  {
   "cell_type": "code",
   "execution_count": 109,
   "metadata": {},
   "outputs": [
    {
     "name": "stdout",
     "output_type": "stream",
     "text": [
      "2.0.0\n"
     ]
    }
   ],
   "source": [
    "print(tf.__version__)"
   ]
  },
  {
   "cell_type": "code",
   "execution_count": 3,
   "metadata": {},
   "outputs": [],
   "source": [
    "np.random.seed(500)"
   ]
  },
  {
   "cell_type": "code",
   "execution_count": 5,
   "metadata": {},
   "outputs": [],
   "source": [
    "Corpus = pd.read_csv(\"corpus.csv\",encoding='latin-1')"
   ]
  },
  {
   "cell_type": "code",
   "execution_count": 7,
   "metadata": {},
   "outputs": [
    {
     "data": {
      "text/html": [
       "<div>\n",
       "<style scoped>\n",
       "    .dataframe tbody tr th:only-of-type {\n",
       "        vertical-align: middle;\n",
       "    }\n",
       "\n",
       "    .dataframe tbody tr th {\n",
       "        vertical-align: top;\n",
       "    }\n",
       "\n",
       "    .dataframe thead th {\n",
       "        text-align: right;\n",
       "    }\n",
       "</style>\n",
       "<table border=\"1\" class=\"dataframe\">\n",
       "  <thead>\n",
       "    <tr style=\"text-align: right;\">\n",
       "      <th></th>\n",
       "      <th>text</th>\n",
       "      <th>label</th>\n",
       "    </tr>\n",
       "  </thead>\n",
       "  <tbody>\n",
       "    <tr>\n",
       "      <th>0</th>\n",
       "      <td>Stuning even for the non-gamer: This sound tr...</td>\n",
       "      <td>__label__2</td>\n",
       "    </tr>\n",
       "    <tr>\n",
       "      <th>1</th>\n",
       "      <td>The best soundtrack ever to anything.: I'm re...</td>\n",
       "      <td>__label__2</td>\n",
       "    </tr>\n",
       "    <tr>\n",
       "      <th>2</th>\n",
       "      <td>Amazing!: This soundtrack is my favorite musi...</td>\n",
       "      <td>__label__2</td>\n",
       "    </tr>\n",
       "    <tr>\n",
       "      <th>3</th>\n",
       "      <td>Excellent Soundtrack: I truly like this sound...</td>\n",
       "      <td>__label__2</td>\n",
       "    </tr>\n",
       "    <tr>\n",
       "      <th>4</th>\n",
       "      <td>Remember, Pull Your Jaw Off The Floor After H...</td>\n",
       "      <td>__label__2</td>\n",
       "    </tr>\n",
       "    <tr>\n",
       "      <th>...</th>\n",
       "      <td>...</td>\n",
       "      <td>...</td>\n",
       "    </tr>\n",
       "    <tr>\n",
       "      <th>9995</th>\n",
       "      <td>A revelation of life in small town America in...</td>\n",
       "      <td>__label__2</td>\n",
       "    </tr>\n",
       "    <tr>\n",
       "      <th>9996</th>\n",
       "      <td>Great biography of a very interesting journal...</td>\n",
       "      <td>__label__2</td>\n",
       "    </tr>\n",
       "    <tr>\n",
       "      <th>9997</th>\n",
       "      <td>Interesting Subject; Poor Presentation: You'd...</td>\n",
       "      <td>__label__1</td>\n",
       "    </tr>\n",
       "    <tr>\n",
       "      <th>9998</th>\n",
       "      <td>Don't buy: The box looked used and it is obvi...</td>\n",
       "      <td>__label__1</td>\n",
       "    </tr>\n",
       "    <tr>\n",
       "      <th>9999</th>\n",
       "      <td>Beautiful Pen and Fast Delivery.: The pen was...</td>\n",
       "      <td>__label__2</td>\n",
       "    </tr>\n",
       "  </tbody>\n",
       "</table>\n",
       "<p>10000 rows × 2 columns</p>\n",
       "</div>"
      ],
      "text/plain": [
       "                                                   text        label\n",
       "0      Stuning even for the non-gamer: This sound tr...  __label__2 \n",
       "1      The best soundtrack ever to anything.: I'm re...  __label__2 \n",
       "2      Amazing!: This soundtrack is my favorite musi...  __label__2 \n",
       "3      Excellent Soundtrack: I truly like this sound...  __label__2 \n",
       "4      Remember, Pull Your Jaw Off The Floor After H...  __label__2 \n",
       "...                                                 ...          ...\n",
       "9995   A revelation of life in small town America in...  __label__2 \n",
       "9996   Great biography of a very interesting journal...  __label__2 \n",
       "9997   Interesting Subject; Poor Presentation: You'd...  __label__1 \n",
       "9998   Don't buy: The box looked used and it is obvi...  __label__1 \n",
       "9999   Beautiful Pen and Fast Delivery.: The pen was...  __label__2 \n",
       "\n",
       "[10000 rows x 2 columns]"
      ]
     },
     "execution_count": 7,
     "metadata": {},
     "output_type": "execute_result"
    }
   ],
   "source": [
    "Corpus"
   ]
  },
  {
   "cell_type": "code",
   "execution_count": 13,
   "metadata": {
    "scrolled": true
   },
   "outputs": [
    {
     "data": {
      "text/plain": [
       "text     0\n",
       "label    0\n",
       "dtype: int64"
      ]
     },
     "execution_count": 13,
     "metadata": {},
     "output_type": "execute_result"
    }
   ],
   "source": [
    "#Checking if there is any blank rows\n",
    "Corpus.isna().sum()"
   ]
  },
  {
   "cell_type": "code",
   "execution_count": 211,
   "metadata": {},
   "outputs": [
    {
     "data": {
      "text/plain": [
       "2"
      ]
     },
     "execution_count": 211,
     "metadata": {},
     "output_type": "execute_result"
    }
   ],
   "source": [
    "Corpus.label.nunique()"
   ]
  },
  {
   "cell_type": "code",
   "execution_count": 20,
   "metadata": {},
   "outputs": [
    {
     "data": {
      "text/plain": [
       "text     object\n",
       "label    object\n",
       "dtype: object"
      ]
     },
     "execution_count": 20,
     "metadata": {},
     "output_type": "execute_result"
    }
   ],
   "source": [
    "Corpus.dtypes"
   ]
  },
  {
   "cell_type": "code",
   "execution_count": 210,
   "metadata": {
    "scrolled": true
   },
   "outputs": [
    {
     "data": {
      "text/plain": [
       "<matplotlib.axes._subplots.AxesSubplot at 0x1157475f470>"
      ]
     },
     "execution_count": 210,
     "metadata": {},
     "output_type": "execute_result"
    },
    {
     "data": {
      "image/png": "[encoded data removed]",
      "text/plain": [
       "<Figure size 1440x720 with 1 Axes>"
      ]
     },
     "metadata": {
      "needs_background": "light"
     },
     "output_type": "display_data"
    }
   ],
   "source": [
    "Corpus.groupby('label').text.count().plot(kind='bar',stacked=True, figsize=(20,10))"
   ]
  },
  {
   "cell_type": "markdown",
   "metadata": {},
   "source": [
    "Based on the graph above, our data set is very balanced."
   ]
  },
  {
   "cell_type": "code",
   "execution_count": 21,
   "metadata": {},
   "outputs": [],
   "source": [
    "#Change all the text to lower case\n",
    "Corpus = Corpus.applymap(lambda s:s.lower())"
   ]
  },
  {
   "cell_type": "code",
   "execution_count": 53,
   "metadata": {},
   "outputs": [],
   "source": [
    "#Tokenization : In this each entry in the corpus will be broken into set of words\n",
    "Corpus['text']= [word_tokenize(entry) for entry in Corpus['text']]"
   ]
  },
  {
   "cell_type": "code",
   "execution_count": 63,
   "metadata": {},
   "outputs": [],
   "source": [
    "# Remove Stop words and perfom Word Stemming/Lemmenting.\n",
    "# WordNetLemmatizer requires Pos tags to understand if the word is noun or verb or adjective etc. By default it is set to Noun\n",
    "tag_map = defaultdict(lambda : wn.NOUN)\n",
    "tag_map['J'] = wn.ADJ\n",
    "tag_map['V'] = wn.VERB\n",
    "tag_map['R'] = wn.ADV\n",
    "\n",
    "for index,entry in enumerate(Corpus['text']):\n",
    "    # Declaring Empty List to store the words that follow the rules for this step\n",
    "    Final_words = []\n",
    "    # Initializing WordNetLemmatizer()\n",
    "    word_Lemmatized = WordNetLemmatizer()\n",
    "    # pos_tag function below will provide the 'tag' i.e if the word is Noun(N) or Verb(V) or something else.\n",
    "    for word, tag in pos_tag(entry):\n",
    "        # Below condition is to check for Stop words and consider only alphabets\n",
    "        if word not in stopwords.words('english') and word.isalpha():\n",
    "            word_Final = word_Lemmatized.lemmatize(word,tag_map[tag[0]])\n",
    "            Final_words.append(word_Final)\n",
    "    # The final processed set of words for each iteration will be stored in 'text_final'\n",
    "    Corpus.loc[index,'text_final'] = str(Final_words)"
   ]
  },
  {
   "cell_type": "code",
   "execution_count": 209,
   "metadata": {
    "scrolled": true
   },
   "outputs": [
    {
     "data": {
      "text/html": [
       "<div>\n",
       "<style scoped>\n",
       "    .dataframe tbody tr th:only-of-type {\n",
       "        vertical-align: middle;\n",
       "    }\n",
       "\n",
       "    .dataframe tbody tr th {\n",
       "        vertical-align: top;\n",
       "    }\n",
       "\n",
       "    .dataframe thead th {\n",
       "        text-align: right;\n",
       "    }\n",
       "</style>\n",
       "<table border=\"1\" class=\"dataframe\">\n",
       "  <thead>\n",
       "    <tr style=\"text-align: right;\">\n",
       "      <th></th>\n",
       "      <th>text</th>\n",
       "      <th>label</th>\n",
       "      <th>text_final</th>\n",
       "    </tr>\n",
       "  </thead>\n",
       "  <tbody>\n",
       "    <tr>\n",
       "      <th>0</th>\n",
       "      <td>[stuning, even, for, the, non-gamer, :, this, ...</td>\n",
       "      <td>__label__2</td>\n",
       "      <td>['stun', 'even', 'sound', 'track', 'beautiful'...</td>\n",
       "    </tr>\n",
       "    <tr>\n",
       "      <th>1</th>\n",
       "      <td>[the, best, soundtrack, ever, to, anything, .,...</td>\n",
       "      <td>__label__2</td>\n",
       "      <td>['best', 'soundtrack', 'ever', 'anything', 're...</td>\n",
       "    </tr>\n",
       "    <tr>\n",
       "      <th>2</th>\n",
       "      <td>[amazing, !, :, this, soundtrack, is, my, favo...</td>\n",
       "      <td>__label__2</td>\n",
       "      <td>['amaze', 'soundtrack', 'favorite', 'music', '...</td>\n",
       "    </tr>\n",
       "    <tr>\n",
       "      <th>3</th>\n",
       "      <td>[excellent, soundtrack, :, i, truly, like, thi...</td>\n",
       "      <td>__label__2</td>\n",
       "      <td>['excellent', 'soundtrack', 'truly', 'like', '...</td>\n",
       "    </tr>\n",
       "    <tr>\n",
       "      <th>4</th>\n",
       "      <td>[remember, ,, pull, your, jaw, off, the, floor...</td>\n",
       "      <td>__label__2</td>\n",
       "      <td>['remember', 'pull', 'jaw', 'floor', 'hear', '...</td>\n",
       "    </tr>\n",
       "    <tr>\n",
       "      <th>...</th>\n",
       "      <td>...</td>\n",
       "      <td>...</td>\n",
       "      <td>...</td>\n",
       "    </tr>\n",
       "    <tr>\n",
       "      <th>9995</th>\n",
       "      <td>[a, revelation, of, life, in, small, town, ame...</td>\n",
       "      <td>__label__2</td>\n",
       "      <td>['revelation', 'life', 'small', 'town', 'ameri...</td>\n",
       "    </tr>\n",
       "    <tr>\n",
       "      <th>9996</th>\n",
       "      <td>[great, biography, of, a, very, interesting, j...</td>\n",
       "      <td>__label__2</td>\n",
       "      <td>['great', 'biography', 'interesting', 'journal...</td>\n",
       "    </tr>\n",
       "    <tr>\n",
       "      <th>9997</th>\n",
       "      <td>[interesting, subject, ;, poor, presentation, ...</td>\n",
       "      <td>__label__1</td>\n",
       "      <td>['interest', 'subject', 'poor', 'presentation'...</td>\n",
       "    </tr>\n",
       "    <tr>\n",
       "      <th>9998</th>\n",
       "      <td>[do, n't, buy, :, the, box, looked, used, and,...</td>\n",
       "      <td>__label__1</td>\n",
       "      <td>['buy', 'box', 'look', 'use', 'obviously', 'ne...</td>\n",
       "    </tr>\n",
       "    <tr>\n",
       "      <th>9999</th>\n",
       "      <td>[beautiful, pen, and, fast, delivery, ., :, th...</td>\n",
       "      <td>__label__2</td>\n",
       "      <td>['beautiful', 'pen', 'fast', 'delivery', 'pen'...</td>\n",
       "    </tr>\n",
       "  </tbody>\n",
       "</table>\n",
       "<p>10000 rows × 3 columns</p>\n",
       "</div>"
      ],
      "text/plain": [
       "                                                   text        label  \\\n",
       "0     [stuning, even, for, the, non-gamer, :, this, ...  __label__2    \n",
       "1     [the, best, soundtrack, ever, to, anything, .,...  __label__2    \n",
       "2     [amazing, !, :, this, soundtrack, is, my, favo...  __label__2    \n",
       "3     [excellent, soundtrack, :, i, truly, like, thi...  __label__2    \n",
       "4     [remember, ,, pull, your, jaw, off, the, floor...  __label__2    \n",
       "...                                                 ...          ...   \n",
       "9995  [a, revelation, of, life, in, small, town, ame...  __label__2    \n",
       "9996  [great, biography, of, a, very, interesting, j...  __label__2    \n",
       "9997  [interesting, subject, ;, poor, presentation, ...  __label__1    \n",
       "9998  [do, n't, buy, :, the, box, looked, used, and,...  __label__1    \n",
       "9999  [beautiful, pen, and, fast, delivery, ., :, th...  __label__2    \n",
       "\n",
       "                                             text_final  \n",
       "0     ['stun', 'even', 'sound', 'track', 'beautiful'...  \n",
       "1     ['best', 'soundtrack', 'ever', 'anything', 're...  \n",
       "2     ['amaze', 'soundtrack', 'favorite', 'music', '...  \n",
       "3     ['excellent', 'soundtrack', 'truly', 'like', '...  \n",
       "4     ['remember', 'pull', 'jaw', 'floor', 'hear', '...  \n",
       "...                                                 ...  \n",
       "9995  ['revelation', 'life', 'small', 'town', 'ameri...  \n",
       "9996  ['great', 'biography', 'interesting', 'journal...  \n",
       "9997  ['interest', 'subject', 'poor', 'presentation'...  \n",
       "9998  ['buy', 'box', 'look', 'use', 'obviously', 'ne...  \n",
       "9999  ['beautiful', 'pen', 'fast', 'delivery', 'pen'...  \n",
       "\n",
       "[10000 rows x 3 columns]"
      ]
     },
     "execution_count": 209,
     "metadata": {},
     "output_type": "execute_result"
    }
   ],
   "source": [
    "Corpus"
   ]
  },
  {
   "cell_type": "markdown",
   "metadata": {},
   "source": [
    "### Prepare Test and Train Datasets"
   ]
  },
  {
   "cell_type": "code",
   "execution_count": 65,
   "metadata": {},
   "outputs": [],
   "source": [
    "Train_X, Test_X, Train_Y, Test_Y = model_selection.train_test_split(Corpus['text_final'],Corpus['label'],test_size=0.3)"
   ]
  },
  {
   "cell_type": "markdown",
   "metadata": {},
   "source": [
    "# 5. Encoding\n",
    "Label encode the target variable — This is done to transform Categorical data of string type in the data set into numerical values which the model can understand."
   ]
  },
  {
   "cell_type": "code",
   "execution_count": 66,
   "metadata": {},
   "outputs": [],
   "source": [
    "Encoder = LabelEncoder()\n",
    "Train_Y = Encoder.fit_transform(Train_Y)\n",
    "Test_Y = Encoder.fit_transform(Test_Y)"
   ]
  },
  {
   "cell_type": "markdown",
   "metadata": {},
   "source": [
    "# 6. Word Vectorization"
   ]
  },
  {
   "cell_type": "code",
   "execution_count": 67,
   "metadata": {},
   "outputs": [],
   "source": [
    "# It is better to tokenize based on Frequency instead of occurance since a word might be used many times in a few long documents\n",
    "# To avoid this issue, the number of occurrences of each word in a document is divided by the total number of words in the document tf for Term Frequencies\n",
    "tfidf_transformer = TfidfTransformer()\n",
    "Tfidf_vect = TfidfVectorizer(max_features=5000)\n",
    "Tfidf_vect.fit(Corpus['text_final'])\n",
    "Train_X_Tfidf = Tfidf_vect.transform(Train_X)\n",
    "Test_X_Tfidf = Tfidf_vect.transform(Test_X)"
   ]
  },
  {
   "cell_type": "code",
   "execution_count": 216,
   "metadata": {
    "scrolled": true
   },
   "outputs": [
    {
     "name": "stdout",
     "output_type": "stream",
     "text": [
      "  (0, 240)\t0.2448559358109696\n",
      "  (0, 491)\t0.12303572865008613\n",
      "  (0, 521)\t0.321056290554803\n",
      "  (0, 1529)\t0.17761496997588844\n",
      "  (0, 1935)\t0.13406125327954532\n",
      "  (0, 2931)\t0.229683025366997\n",
      "  (0, 3564)\t0.29449641491430995\n",
      "  (0, 3655)\t0.2896999547088821\n",
      "  (0, 3745)\t0.34695623926050195\n",
      "  (0, 3860)\t0.2690675584422277\n",
      "  (0, 3890)\t0.2515140235472667\n",
      "  (0, 3976)\t0.35868777245753825\n",
      "  (0, 4505)\t0.15031494427382475\n",
      "  (0, 4506)\t0.3763188267807246\n",
      "  (1, 604)\t0.1614401835472762\n",
      "  (1, 1260)\t0.2074693534878867\n",
      "  (1, 2592)\t0.2173336717856602\n",
      "  (1, 3313)\t0.8157357261127677\n",
      "  (1, 3434)\t0.21279175847748263\n",
      "  (1, 4060)\t0.3566872275481094\n",
      "  (1, 4687)\t0.21384275526442909\n",
      "  (2, 33)\t0.20930831028858776\n",
      "  (2, 361)\t0.17411748468635024\n",
      "  (2, 391)\t0.13891513600828057\n",
      "  (2, 499)\t0.23040114109066645\n",
      "  :\t:\n",
      "  (6998, 3496)\t0.10451353633683101\n",
      "  (6998, 3564)\t0.288726350970047\n",
      "  (6998, 3602)\t0.1798213211550688\n",
      "  (6998, 3686)\t0.15400280027565427\n",
      "  (6998, 3805)\t0.1514288179316596\n",
      "  (6998, 3928)\t0.16387843435044955\n",
      "  (6998, 4196)\t0.11132420041814113\n",
      "  (6998, 4232)\t0.13234870591207787\n",
      "  (6998, 4237)\t0.08875721263956975\n",
      "  (6998, 4371)\t0.0921729228196179\n",
      "  (6998, 4487)\t0.15794090256332008\n",
      "  (6998, 4604)\t0.14000394043873474\n",
      "  (6998, 4870)\t0.16719723225983713\n",
      "  (6999, 50)\t0.3571519291530235\n",
      "  (6999, 322)\t0.28499442233774624\n",
      "  (6999, 1246)\t0.314256617088249\n",
      "  (6999, 1406)\t0.2877416804485293\n",
      "  (6999, 1529)\t0.17292898689607455\n",
      "  (6999, 1664)\t0.28173977593289695\n",
      "  (6999, 1971)\t0.14155242939037596\n",
      "  (6999, 2706)\t0.14615260074275177\n",
      "  (6999, 2911)\t0.16568268411504228\n",
      "  (6999, 3824)\t0.3649735868975402\n",
      "  (6999, 4136)\t0.5217385422290042\n",
      "  (6999, 4865)\t0.16162053232828144\n"
     ]
    }
   ],
   "source": [
    "print(Train_X_Tfidf) # each row shows 1: Row number of ‘Train_X_Tfidf’, 2: Unique Integer number of each word in the first row, 3: Score calculated by TF-IDF Vectorizer"
   ]
  },
  {
   "cell_type": "markdown",
   "metadata": {},
   "source": [
    "# 7. Fitting SVM Algotithm and optimizing the hyper parameters"
   ]
  },
  {
   "cell_type": "code",
   "execution_count": 70,
   "metadata": {},
   "outputs": [
    {
     "name": "stdout",
     "output_type": "stream",
     "text": [
      "SVM Accuracy Score ->  84.66666666666667\n"
     ]
    }
   ],
   "source": [
    "# Classifier - SVM\n",
    "# fit the training data on the classifier\n",
    "SVM = svm.SVC(C=1.0, kernel='linear', degree=3, gamma='auto')\n",
    "SVM.fit(Train_X_Tfidf,Train_Y)\n",
    "# predict the labels on validation dataset\n",
    "predictions_SVM = SVM.predict(Test_X_Tfidf)\n",
    "# Use accuracy_score function to get the accuracy\n",
    "print(\"SVM Accuracy Score -> \",accuracy_score(predictions_SVM, Test_Y)*100)"
   ]
  },
  {
   "cell_type": "code",
   "execution_count": 95,
   "metadata": {},
   "outputs": [],
   "source": [
    "# Grid Search to find the best hyper parameters (assumption: kernel='rbf')\n",
    "def svc_param_selection(X, y, nfolds):\n",
    "    C = [0.001, 0.01, 0.1, 1, 10]\n",
    "    gamma = [0.001, 0.01, 0.1, 1]\n",
    "    param_grid = {'C': C, 'gamma' : gamma}\n",
    "    \n",
    "    grid_search = GridSearchCV(svm.SVC(kernel='rbf'), param_grid, cv=nfolds)\n",
    "    grid_search.fit(X, y)\n",
    "    grid_search.best_params_\n",
    "    return grid_search.best_params_"
   ]
  },
  {
   "cell_type": "code",
   "execution_count": 96,
   "metadata": {},
   "outputs": [
    {
     "data": {
      "text/plain": [
       "{'C': 1, 'gamma': 1}"
      ]
     },
     "execution_count": 96,
     "metadata": {},
     "output_type": "execute_result"
    }
   ],
   "source": [
    "svc_param_selection(Train_X_Tfidf,Train_Y, 10) # optimized hyper parameters when kernel='rbf'"
   ]
  },
  {
   "cell_type": "code",
   "execution_count": 97,
   "metadata": {},
   "outputs": [
    {
     "name": "stdout",
     "output_type": "stream",
     "text": [
      "SVM Accuracy Score ->  85.0\n"
     ]
    }
   ],
   "source": [
    "# Checking the accuracy of SVM model with optimized hyper parameters and kernel='rbf'\n",
    "SVM = svm.SVC(C=1.0, kernel='rbf', gamma=1.0)\n",
    "SVM.fit(Train_X_Tfidf,Train_Y)\n",
    "# predict the labels on validation dataset\n",
    "predictions_SVM = SVM.predict(Test_X_Tfidf)\n",
    "# Use accuracy_score function to get the accuracy\n",
    "print(\"SVM Accuracy Score -> \",accuracy_score(predictions_SVM, Test_Y)*100)"
   ]
  },
  {
   "cell_type": "code",
   "execution_count": 98,
   "metadata": {},
   "outputs": [],
   "source": [
    "# Grid Search to find the best hyper parameters (assumption: kernel='linear')\n",
    "def svc_param_selection(X, y, nfolds):\n",
    "    C = [0.001, 0.01, 0.1, 1, 10]\n",
    "    gamma = [0.001, 0.01, 0.1, 1]\n",
    "    param_grid = {'C': C, 'gamma' : gamma}\n",
    "    \n",
    "    grid_search = GridSearchCV(svm.SVC(kernel='linear'), param_grid, cv=nfolds)\n",
    "    grid_search.fit(X, y)\n",
    "    grid_search.best_params_\n",
    "    return grid_search.best_params_"
   ]
  },
  {
   "cell_type": "code",
   "execution_count": 99,
   "metadata": {},
   "outputs": [
    {
     "data": {
      "text/plain": [
       "{'C': 1, 'gamma': 0.001}"
      ]
     },
     "execution_count": 99,
     "metadata": {},
     "output_type": "execute_result"
    }
   ],
   "source": [
    "svc_param_selection(Train_X_Tfidf,Train_Y, 10) # optimized hyper parameters when kernel='linear'"
   ]
  },
  {
   "cell_type": "code",
   "execution_count": 166,
   "metadata": {},
   "outputs": [
    {
     "name": "stdout",
     "output_type": "stream",
     "text": [
      "SVM Accuracy Score ->  84.66666666666667\n"
     ]
    }
   ],
   "source": [
    "# Checking the accuracy of SVM model with optimized hyper parameters and kernel='linear'\n",
    "SVM = svm.SVC(C=1.0, kernel='linear', gamma=0.001)\n",
    "SVM.fit(Train_X_Tfidf,Train_Y)\n",
    "# predict the labels on validation dataset\n",
    "predictions_SVM = SVM.predict(Test_X_Tfidf)\n",
    "# Use accuracy_score function to get the accuracy\n",
    "print(\"SVM Accuracy Score -> \",accuracy_score(predictions_SVM, Test_Y)*100)"
   ]
  },
  {
   "cell_type": "code",
   "execution_count": 222,
   "metadata": {},
   "outputs": [],
   "source": [
    "# optimizing the min number of training data\n",
    "def create_model(train_size=2000):\n",
    "    train_sizes, train_scores, valid_scores = learning_curve(SVC(C=1.0, kernel='rbf', gamma=1.0), Train_X_Tfidf, Train_Y, train_sizes=train_size, cv=5)\n",
    "    return train_sizes, train_scores, valid_scores\n",
    "\n",
    "train_size=[2000,3000, 4000, 5000]\n",
    "\n",
    "history=create_model(train_size)"
   ]
  },
  {
   "cell_type": "code",
   "execution_count": 223,
   "metadata": {},
   "outputs": [
    {
     "data": {
      "text/plain": [
       "[<matplotlib.lines.Line2D at 0x11574d6b8d0>,\n",
       " <matplotlib.lines.Line2D at 0x11574d6ba20>,\n",
       " <matplotlib.lines.Line2D at 0x11574d6bb70>,\n",
       " <matplotlib.lines.Line2D at 0x11574d6bcc0>,\n",
       " <matplotlib.lines.Line2D at 0x11574d6be10>,\n",
       " <matplotlib.lines.Line2D at 0x11574d6bf60>,\n",
       " <matplotlib.lines.Line2D at 0x11574d780f0>,\n",
       " <matplotlib.lines.Line2D at 0x11574d78240>,\n",
       " <matplotlib.lines.Line2D at 0x11574d78390>,\n",
       " <matplotlib.lines.Line2D at 0x11574d784e0>]"
      ]
     },
     "execution_count": 223,
     "metadata": {},
     "output_type": "execute_result"
    },
    {
     "data": {
      "image/png": "[encoded data removed]",
      "text/plain": [
       "<Figure size 720x360 with 1 Axes>"
      ]
     },
     "metadata": {
      "needs_background": "light"
     },
     "output_type": "display_data"
    }
   ],
   "source": [
    "plt.figure(figsize=(10,5))\n",
    "plt.plot(train_sizes, train_scores,train_sizes, valid_scores)"
   ]
  },
  {
   "cell_type": "code",
   "execution_count": 224,
   "metadata": {},
   "outputs": [
    {
     "data": {
      "text/plain": [
       "array([[0.967     , 0.9635    , 0.9635    , 0.9635    , 0.9635    ],\n",
       "       [0.96233333, 0.954     , 0.95666667, 0.95666667, 0.95666667],\n",
       "       [0.9438    , 0.9412    , 0.947     , 0.9432    , 0.9438    ]])"
      ]
     },
     "execution_count": 224,
     "metadata": {},
     "output_type": "execute_result"
    }
   ],
   "source": [
    "train_scores"
   ]
  },
  {
   "cell_type": "code",
   "execution_count": 225,
   "metadata": {
    "scrolled": true
   },
   "outputs": [
    {
     "data": {
      "text/plain": [
       "array([[0.80714286, 0.80428571, 0.80642857, 0.805     , 0.81571429],\n",
       "       [0.81357143, 0.83142857, 0.81642857, 0.81642857, 0.84214286],\n",
       "       [0.83571429, 0.84142857, 0.82642857, 0.82571429, 0.85214286]])"
      ]
     },
     "execution_count": 225,
     "metadata": {},
     "output_type": "execute_result"
    }
   ],
   "source": [
    "valid_scores"
   ]
  },
  {
   "cell_type": "markdown",
   "metadata": {},
   "source": [
    "Based on the above graph and results, having more than 3000 training data helps us to improve validation score and decrease the overfitting. As we increase training data size, the validation score improve and training score decreases."
   ]
  },
  {
   "cell_type": "markdown",
   "metadata": {},
   "source": [
    "# 8. Fitting ANN Algorithm and optimization"
   ]
  },
  {
   "cell_type": "code",
   "execution_count": 260,
   "metadata": {},
   "outputs": [],
   "source": [
    "vocab_size = 5000\n",
    "embedding_dim = 16\n",
    "max_length = 120\n",
    "trunc_type='post'\n",
    "oov_tok='<OOV>'\n",
    "\n",
    "tokenizer = Tokenizer(num_words=vocab_size, oov_token=oov_tok)\n",
    "tokenizer.fit_on_texts(Train_X)\n",
    "word_index = tokenizer.word_index\n",
    "sequences = tokenizer.texts_to_sequences(Train_X)\n",
    "padded = pad_sequences(sequences, maxlen=max_length, truncating=trunc_type)\n",
    "\n",
    "testing_sequences = tokenizer.texts_to_sequences(Test_X)\n",
    "testing_padded = pad_sequences(testing_sequences, maxlen=max_length, truncating=trunc_type)"
   ]
  },
  {
   "cell_type": "code",
   "execution_count": 261,
   "metadata": {},
   "outputs": [
    {
     "name": "stdout",
     "output_type": "stream",
     "text": [
      "Model: \"sequential_20\"\n",
      "_________________________________________________________________\n",
      "Layer (type)                 Output Shape              Param #   \n",
      "=================================================================\n",
      "embedding_20 (Embedding)     (None, 120, 16)           80000     \n",
      "_________________________________________________________________\n",
      "global_average_pooling1d_20  (None, 16)                0         \n",
      "_________________________________________________________________\n",
      "dense_40 (Dense)             (None, 6)                 102       \n",
      "_________________________________________________________________\n",
      "dense_41 (Dense)             (None, 1)                 7         \n",
      "=================================================================\n",
      "Total params: 80,109\n",
      "Trainable params: 80,109\n",
      "Non-trainable params: 0\n",
      "_________________________________________________________________\n"
     ]
    }
   ],
   "source": [
    "model = tf.keras.Sequential([\n",
    "    tf.keras.layers.Embedding(vocab_size, embedding_dim, input_length=max_length),\n",
    "    tf.keras.layers.GlobalAveragePooling1D(),\n",
    "    tf.keras.layers.Dense(6, activation='relu'),\n",
    "    tf.keras.layers.Dense(1, activation='sigmoid')\n",
    "])\n",
    "\n",
    "model.compile(loss='binary_crossentropy', optimizer='adam', metrics=['accuracy'])\n",
    "model.summary()"
   ]
  },
  {
   "cell_type": "code",
   "execution_count": 262,
   "metadata": {
    "scrolled": true
   },
   "outputs": [
    {
     "name": "stdout",
     "output_type": "stream",
     "text": [
      "Train on 7000 samples, validate on 3000 samples\n",
      "Epoch 1/20\n",
      "7000/7000 [==============================] - 1s 169us/sample - loss: 0.6875 - accuracy: 0.6361 - val_loss: 0.6774 - val_accuracy: 0.7387\n",
      "Epoch 2/20\n",
      "7000/7000 [==============================] - 1s 103us/sample - loss: 0.6450 - accuracy: 0.7881 - val_loss: 0.6036 - val_accuracy: 0.7783\n",
      "Epoch 3/20\n",
      "7000/7000 [==============================] - 1s 98us/sample - loss: 0.5065 - accuracy: 0.8457 - val_loss: 0.4601 - val_accuracy: 0.8360\n",
      "Epoch 4/20\n",
      "7000/7000 [==============================] - 1s 107us/sample - loss: 0.3750 - accuracy: 0.8757 - val_loss: 0.3970 - val_accuracy: 0.8320\n",
      "Epoch 5/20\n",
      "7000/7000 [==============================] - 1s 103us/sample - loss: 0.3047 - accuracy: 0.8964 - val_loss: 0.3584 - val_accuracy: 0.8557\n",
      "Epoch 6/20\n",
      "7000/7000 [==============================] - 1s 99us/sample - loss: 0.2612 - accuracy: 0.9103 - val_loss: 0.3458 - val_accuracy: 0.8547\n",
      "Epoch 7/20\n",
      "7000/7000 [==============================] - 1s 110us/sample - loss: 0.2307 - accuracy: 0.9197 - val_loss: 0.3414 - val_accuracy: 0.8553\n",
      "Epoch 8/20\n",
      "7000/7000 [==============================] - 1s 123us/sample - loss: 0.2066 - accuracy: 0.9277 - val_loss: 0.3411 - val_accuracy: 0.8607\n",
      "Epoch 9/20\n",
      "7000/7000 [==============================] - 1s 110us/sample - loss: 0.1873 - accuracy: 0.9374 - val_loss: 0.3439 - val_accuracy: 0.8593\n",
      "Epoch 10/20\n",
      "7000/7000 [==============================] - 1s 102us/sample - loss: 0.1702 - accuracy: 0.9436 - val_loss: 0.3525 - val_accuracy: 0.8540\n",
      "Epoch 11/20\n",
      "7000/7000 [==============================] - 1s 103us/sample - loss: 0.1557 - accuracy: 0.9483 - val_loss: 0.3579 - val_accuracy: 0.8530\n",
      "Epoch 12/20\n",
      "7000/7000 [==============================] - 1s 104us/sample - loss: 0.1420 - accuracy: 0.9546 - val_loss: 0.3710 - val_accuracy: 0.8530\n",
      "Epoch 13/20\n",
      "7000/7000 [==============================] - 1s 100us/sample - loss: 0.1306 - accuracy: 0.9581 - val_loss: 0.3781 - val_accuracy: 0.8517\n",
      "Epoch 14/20\n",
      "7000/7000 [==============================] - 1s 119us/sample - loss: 0.1199 - accuracy: 0.9623 - val_loss: 0.3948 - val_accuracy: 0.8483\n",
      "Epoch 15/20\n",
      "7000/7000 [==============================] - 1s 120us/sample - loss: 0.1100 - accuracy: 0.9654 - val_loss: 0.4034 - val_accuracy: 0.8490\n",
      "Epoch 16/20\n",
      "7000/7000 [==============================] - 1s 123us/sample - loss: 0.1004 - accuracy: 0.9709 - val_loss: 0.4207 - val_accuracy: 0.8480\n",
      "Epoch 17/20\n",
      "7000/7000 [==============================] - 1s 109us/sample - loss: 0.0929 - accuracy: 0.9737 - val_loss: 0.4566 - val_accuracy: 0.8390\n",
      "Epoch 18/20\n",
      "7000/7000 [==============================] - 1s 125us/sample - loss: 0.0841 - accuracy: 0.9760 - val_loss: 0.4531 - val_accuracy: 0.8450\n",
      "Epoch 19/20\n",
      "7000/7000 [==============================] - 1s 133us/sample - loss: 0.0775 - accuracy: 0.9793 - val_loss: 0.4679 - val_accuracy: 0.8443\n",
      "Epoch 20/20\n",
      "7000/7000 [==============================] - 1s 106us/sample - loss: 0.0710 - accuracy: 0.9817 - val_loss: 0.4863 - val_accuracy: 0.8443\n"
     ]
    }
   ],
   "source": [
    "num_epochs = 20\n",
    "history = model.fit(padded, Train_Y, epochs=num_epochs, validation_data=(testing_padded, Test_Y))\n"
   ]
  },
  {
   "cell_type": "code",
   "execution_count": 263,
   "metadata": {
    "scrolled": true
   },
   "outputs": [
    {
     "data": {
      "image/png": "[encoded data removed]",
      "text/plain": [
       "<Figure size 576x360 with 1 Axes>"
      ]
     },
     "metadata": {
      "needs_background": "light"
     },
     "output_type": "display_data"
    }
   ],
   "source": [
    "#Plot loss and accuracy of model for each epoch\n",
    "pd.DataFrame(history.history).plot(figsize=(8, 5))\n",
    "plt.grid(True)\n",
    "plt.gca().set_ylim(0, 1) # set the vertical range to [0-1]\n",
    "plt.show()"
   ]
  },
  {
   "cell_type": "markdown",
   "metadata": {},
   "source": [
    "The graph above clearly shows that the model is overfitting the training data. There are several ways to avoid overfitting such as adding regualizers and decreasing the network size. Also adding more training data can help to have a higher accuracy for validation data. These parameters were changed several times and following is one of the good results."
   ]
  },
  {
   "cell_type": "code",
   "execution_count": 395,
   "metadata": {},
   "outputs": [],
   "source": [
    "# Increasing vocab size, max_length, and adding drop out layers in ANN\n",
    "vocab_size = 40000\n",
    "embedding_dim = 16\n",
    "max_length = 200\n",
    "trunc_type='post'\n",
    "oov_tok='<OOV>'\n",
    "\n",
    "tokenizer = Tokenizer(num_words=vocab_size, oov_token=oov_tok)\n",
    "tokenizer.fit_on_texts(Train_X)\n",
    "word_index = tokenizer.word_index\n",
    "sequences = tokenizer.texts_to_sequences(Train_X)\n",
    "padded = pad_sequences(sequences, maxlen=max_length, truncating=trunc_type)\n",
    "\n",
    "testing_sequences = tokenizer.texts_to_sequences(Test_X)\n",
    "testing_padded = pad_sequences(testing_sequences, maxlen=max_length, truncating=trunc_type)"
   ]
  },
  {
   "cell_type": "code",
   "execution_count": 396,
   "metadata": {},
   "outputs": [
    {
     "name": "stdout",
     "output_type": "stream",
     "text": [
      "Model: \"sequential_50\"\n",
      "_________________________________________________________________\n",
      "Layer (type)                 Output Shape              Param #   \n",
      "=================================================================\n",
      "embedding_53 (Embedding)     (None, 200, 16)           640000    \n",
      "_________________________________________________________________\n",
      "global_average_pooling1d_53  (None, 16)                0         \n",
      "_________________________________________________________________\n",
      "dropout_18 (Dropout)         (None, 16)                0         \n",
      "_________________________________________________________________\n",
      "dense_100 (Dense)            (None, 6)                 102       \n",
      "_________________________________________________________________\n",
      "dropout_19 (Dropout)         (None, 6)                 0         \n",
      "_________________________________________________________________\n",
      "dense_101 (Dense)            (None, 1)                 7         \n",
      "=================================================================\n",
      "Total params: 640,109\n",
      "Trainable params: 640,109\n",
      "Non-trainable params: 0\n",
      "_________________________________________________________________\n"
     ]
    }
   ],
   "source": [
    "model = tf.keras.Sequential([\n",
    "    tf.keras.layers.Embedding(vocab_size, embedding_dim, input_length=max_length),\n",
    "    tf.keras.layers.GlobalAveragePooling1D(),\n",
    "    tf.keras.layers.Dropout(0.7),\n",
    "    tf.keras.layers.Dense(6, activation='relu'),\n",
    "    tf.keras.layers.Dropout(0.4),\n",
    "    tf.keras.layers.Dense(1, activation='sigmoid')\n",
    "])\n",
    "\n",
    "model.compile(loss='binary_crossentropy', optimizer='adam', metrics=['accuracy'])\n",
    "model.summary()"
   ]
  },
  {
   "cell_type": "code",
   "execution_count": 397,
   "metadata": {
    "scrolled": true
   },
   "outputs": [
    {
     "name": "stdout",
     "output_type": "stream",
     "text": [
      "Train on 7000 samples, validate on 3000 samples\n",
      "Epoch 1/20\n",
      "7000/7000 [==============================] - 3s 473us/sample - loss: 0.6933 - accuracy: 0.5043 - val_loss: 0.6922 - val_accuracy: 0.6920\n",
      "Epoch 2/20\n",
      "7000/7000 [==============================] - 3s 374us/sample - loss: 0.6908 - accuracy: 0.5226 - val_loss: 0.6885 - val_accuracy: 0.5357\n",
      "Epoch 3/20\n",
      "7000/7000 [==============================] - 3s 377us/sample - loss: 0.6862 - accuracy: 0.5607 - val_loss: 0.6809 - val_accuracy: 0.5480\n",
      "Epoch 4/20\n",
      "7000/7000 [==============================] - 3s 380us/sample - loss: 0.6710 - accuracy: 0.6127 - val_loss: 0.6580 - val_accuracy: 0.5963\n",
      "Epoch 5/20\n",
      "7000/7000 [==============================] - 3s 379us/sample - loss: 0.6299 - accuracy: 0.6866 - val_loss: 0.6009 - val_accuracy: 0.7533\n",
      "Epoch 6/20\n",
      "7000/7000 [==============================] - 3s 380us/sample - loss: 0.5679 - accuracy: 0.7567 - val_loss: 0.5333 - val_accuracy: 0.7940\n",
      "Epoch 7/20\n",
      "7000/7000 [==============================] - 3s 414us/sample - loss: 0.5097 - accuracy: 0.7837 - val_loss: 0.4793 - val_accuracy: 0.8350\n",
      "Epoch 8/20\n",
      "7000/7000 [==============================] - 3s 408us/sample - loss: 0.4595 - accuracy: 0.8116 - val_loss: 0.4360 - val_accuracy: 0.8450\n",
      "Epoch 9/20\n",
      "7000/7000 [==============================] - 3s 436us/sample - loss: 0.4296 - accuracy: 0.8280 - val_loss: 0.4088 - val_accuracy: 0.8440\n",
      "Epoch 10/20\n",
      "7000/7000 [==============================] - 3s 428us/sample - loss: 0.3923 - accuracy: 0.8531 - val_loss: 0.3868 - val_accuracy: 0.8517\n",
      "Epoch 11/20\n",
      "7000/7000 [==============================] - 3s 440us/sample - loss: 0.3688 - accuracy: 0.8621 - val_loss: 0.3718 - val_accuracy: 0.8523\n",
      "Epoch 12/20\n",
      "7000/7000 [==============================] - 3s 444us/sample - loss: 0.3499 - accuracy: 0.8707 - val_loss: 0.3586 - val_accuracy: 0.8573\n",
      "Epoch 13/20\n",
      "7000/7000 [==============================] - 3s 446us/sample - loss: 0.3306 - accuracy: 0.8786 - val_loss: 0.3506 - val_accuracy: 0.8553\n",
      "Epoch 14/20\n",
      "7000/7000 [==============================] - 3s 437us/sample - loss: 0.3080 - accuracy: 0.8799 - val_loss: 0.3424 - val_accuracy: 0.8563\n",
      "Epoch 15/20\n",
      "7000/7000 [==============================] - 3s 429us/sample - loss: 0.2805 - accuracy: 0.8980 - val_loss: 0.3463 - val_accuracy: 0.8537\n",
      "Epoch 16/20\n",
      "7000/7000 [==============================] - 3s 432us/sample - loss: 0.2734 - accuracy: 0.8991 - val_loss: 0.3377 - val_accuracy: 0.8587\n",
      "Epoch 17/20\n",
      "7000/7000 [==============================] - 3s 424us/sample - loss: 0.2557 - accuracy: 0.9089 - val_loss: 0.3351 - val_accuracy: 0.8617\n",
      "Epoch 18/20\n",
      "7000/7000 [==============================] - 3s 432us/sample - loss: 0.2453 - accuracy: 0.9093 - val_loss: 0.3457 - val_accuracy: 0.8537\n",
      "Epoch 19/20\n",
      "7000/7000 [==============================] - 3s 439us/sample - loss: 0.2374 - accuracy: 0.9106 - val_loss: 0.3405 - val_accuracy: 0.8560\n",
      "Epoch 20/20\n",
      "7000/7000 [==============================] - 3s 426us/sample - loss: 0.2288 - accuracy: 0.9157 - val_loss: 0.3428 - val_accuracy: 0.8593\n"
     ]
    }
   ],
   "source": [
    "num_epochs = 20\n",
    "history = model.fit(padded, Train_Y, epochs=num_epochs, validation_data=(testing_padded, Test_Y))"
   ]
  },
  {
   "cell_type": "code",
   "execution_count": 398,
   "metadata": {},
   "outputs": [
    {
     "data": {
      "image/png": "[encoded data removed]",
      "text/plain": [
       "<Figure size 576x360 with 1 Axes>"
      ]
     },
     "metadata": {
      "needs_background": "light"
     },
     "output_type": "display_data"
    }
   ],
   "source": [
    "#Plot loss and accuracy of model for each epoch\n",
    "pd.DataFrame(history.history).plot(figsize=(8, 5))\n",
    "plt.grid(True)\n",
    "plt.gca().set_ylim(0, 1) # set the vertical range to [0-1]\n",
    "plt.show()"
   ]
  },
  {
   "cell_type": "markdown",
   "metadata": {},
   "source": [
    "We can see that the distance between accuracy and loss values of training and validation data have decreased which means that overfitting has been decreased. "
   ]
  },
  {
   "cell_type": "code",
   "execution_count": null,
   "metadata": {},
   "outputs": [],
   "source": []
  }
 ],
 "metadata": {
  "kernelspec": {
   "display_name": "Python 3",
   "language": "python",
   "name": "python3"
  },
  "language_info": {
   "codemirror_mode": {
    "name": "ipython",
    "version": 3
   },
   "file_extension": ".py",
   "mimetype": "text/x-python",
   "name": "python",
   "nbconvert_exporter": "python",
   "pygments_lexer": "ipython3",
   "version": "3.7.3"
  },
  "toc": {
   "base_numbering": 1,
   "nav_menu": {},
   "number_sections": true,
   "sideBar": true,
   "skip_h1_title": false,
   "title_cell": "Table of Contents",
   "title_sidebar": "Contents",
   "toc_cell": false,
   "toc_position": {},
   "toc_section_display": true,
   "toc_window_display": false
  },
  "varInspector": {
   "cols": {
    "lenName": 16,
    "lenType": 16,
    "lenVar": 40
   },
   "kernels_config": {
    "python": {
     "delete_cmd_postfix": "",
     "delete_cmd_prefix": "del ",
     "library": "var_list.py",
     "varRefreshCmd": "print(var_dic_list())"
    },
    "r": {
     "delete_cmd_postfix": ") ",
     "delete_cmd_prefix": "rm(",
     "library": "var_list.r",
     "varRefreshCmd": "cat(var_dic_list()) "
    }
   },
   "types_to_exclude": [
    "module",
    "function",
    "builtin_function_or_method",
    "instance",
    "_Feature"
   ],
   "window_display": false
  }
 },
 "nbformat": 4,
 "nbformat_minor": 2
}